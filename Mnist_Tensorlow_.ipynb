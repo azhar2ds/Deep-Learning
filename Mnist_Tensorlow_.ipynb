{
 "cells": [
  {
   "cell_type": "code",
   "execution_count": 15,
   "metadata": {},
   "outputs": [
    {
     "data": {
      "text/html": [
       "<marquee style='widht: 34; color:red'>Hi, Welcome to the Mnist dataset Deep Learning</marquee>\n"
      ],
      "text/plain": [
       "<IPython.core.display.HTML object>"
      ]
     },
     "metadata": {},
     "output_type": "display_data"
    }
   ],
   "source": [
    "%%html\n",
    "<marquee style='widht: 34; color:red'>Hi, Welcome to the Mnist dataset Deep Learning</marquee>"
   ]
  },
  {
   "cell_type": "code",
   "execution_count": 2,
   "metadata": {},
   "outputs": [
    {
     "name": "stdout",
     "output_type": "stream",
     "text": [
      "done\n"
     ]
    }
   ],
   "source": [
    "# Simple Linear Regression using tensorflow V2\n",
    "import tensorflow as tf\n",
    "\n",
    "mnist=tf.keras.datasets.mnist\n",
    "\n",
    "(x_train, y_train), (x_test, y_test) = mnist.load_data()\n",
    "x_train, x_test = x_train / 255.0, x_test / 255.0\n",
    "\n",
    "model = tf.keras.models.Sequential([\n",
    "  tf.keras.layers.Flatten(input_shape=(28, 28)),\n",
    "  tf.keras.layers.Dense(128, activation='relu'),\n",
    "  tf.keras.layers.Dropout(0.2),\n",
    "  tf.keras.layers.Dense(10)\n",
    "])\n",
    "\n",
    "predictions = model(x_train[:1]).numpy()\n",
    "print(predictions)"
   ]
  },
  {
   "cell_type": "code",
   "execution_count": 3,
   "metadata": {},
   "outputs": [],
   "source": [
    "model = tf.keras.models.Sequential([\n",
    "  tf.keras.layers.Flatten(input_shape=(28, 28)),\n",
    "  tf.keras.layers.Dense(128, activation='relu'),\n",
    "  tf.keras.layers.Dropout(0.2),\n",
    "  tf.keras.layers.Dense(10)\n",
    "])"
   ]
  },
  {
   "cell_type": "code",
   "execution_count": 6,
   "metadata": {},
   "outputs": [
    {
     "name": "stdout",
     "output_type": "stream",
     "text": [
      "[[ 0.45605257  0.42735064  0.36748955 -0.14354952 -0.45983952  0.14559379\n",
      "  -0.60688454  0.9265168  -0.10235201  0.24655318]]\n",
      "2.1.0\n"
     ]
    }
   ],
   "source": [
    "predictions = model(x_train[:1]).numpy()\n",
    "print(predictions)\n",
    "print(tf.__version__)"
   ]
  },
  {
   "cell_type": "code",
   "execution_count": 7,
   "metadata": {},
   "outputs": [
    {
     "data": {
      "text/plain": [
       "array([[0.12660569, 0.12302352, 0.11587528, 0.06951033, 0.05066247,\n",
       "        0.09281597, 0.04373464, 0.20266242, 0.07243378, 0.10267597]],\n",
       "      dtype=float32)"
      ]
     },
     "execution_count": 7,
     "metadata": {},
     "output_type": "execute_result"
    }
   ],
   "source": [
    "tf.nn.softmax(predictions).numpy()"
   ]
  },
  {
   "cell_type": "code",
   "execution_count": 8,
   "metadata": {},
   "outputs": [],
   "source": [
    "loss_fn = tf.keras.losses.SparseCategoricalCrossentropy(from_logits=True)"
   ]
  },
  {
   "cell_type": "code",
   "execution_count": 9,
   "metadata": {},
   "outputs": [
    {
     "data": {
      "text/plain": [
       "2.3771367"
      ]
     },
     "execution_count": 9,
     "metadata": {},
     "output_type": "execute_result"
    }
   ],
   "source": [
    "loss_fn(y_train[:1], predictions).numpy()"
   ]
  },
  {
   "cell_type": "code",
   "execution_count": 10,
   "metadata": {},
   "outputs": [],
   "source": [
    "model.compile(optimizer='adam',\n",
    "              loss=loss_fn,\n",
    "              metrics=['accuracy'])"
   ]
  },
  {
   "cell_type": "code",
   "execution_count": 11,
   "metadata": {},
   "outputs": [
    {
     "name": "stdout",
     "output_type": "stream",
     "text": [
      "Train on 60000 samples\n",
      "Epoch 1/5\n",
      "60000/60000 [==============================] - 17s 276us/sample - loss: 0.3023 - accuracy: 0.9123\n",
      "Epoch 2/5\n",
      "60000/60000 [==============================] - 13s 223us/sample - loss: 0.1474 - accuracy: 0.9561\n",
      "Epoch 3/5\n",
      "60000/60000 [==============================] - 14s 236us/sample - loss: 0.1100 - accuracy: 0.9673\n",
      "Epoch 4/5\n",
      "60000/60000 [==============================] - 13s 221us/sample - loss: 0.0899 - accuracy: 0.9720\n",
      "Epoch 5/5\n",
      "60000/60000 [==============================] - 13s 218us/sample - loss: 0.0768 - accuracy: 0.9765\n"
     ]
    },
    {
     "data": {
      "text/plain": [
       "<tensorflow.python.keras.callbacks.History at 0xe814c50>"
      ]
     },
     "execution_count": 11,
     "metadata": {},
     "output_type": "execute_result"
    }
   ],
   "source": [
    "model.fit(x_train, y_train, epochs=5)"
   ]
  },
  {
   "cell_type": "code",
   "execution_count": 12,
   "metadata": {},
   "outputs": [
    {
     "name": "stdout",
     "output_type": "stream",
     "text": [
      "10000/10000 - 1s - loss: 0.0714 - accuracy: 0.9784\n"
     ]
    },
    {
     "data": {
      "text/plain": [
       "[0.07143896758882329, 0.9784]"
      ]
     },
     "execution_count": 12,
     "metadata": {},
     "output_type": "execute_result"
    }
   ],
   "source": [
    "model.evaluate(x_test,  y_test, verbose=2)"
   ]
  },
  {
   "cell_type": "code",
   "execution_count": 13,
   "metadata": {},
   "outputs": [],
   "source": [
    "probability_model = tf.keras.Sequential([model, tf.keras.layers.Softmax()])"
   ]
  },
  {
   "cell_type": "code",
   "execution_count": 14,
   "metadata": {},
   "outputs": [
    {
     "data": {
      "text/plain": [
       "<tf.Tensor: shape=(5, 10), dtype=float32, numpy=\n",
       "array([[4.0419532e-06, 2.4151651e-08, 7.4009281e-06, 9.9980207e-05,\n",
       "        2.1793731e-09, 1.6557796e-06, 8.2336731e-13, 9.9985945e-01,\n",
       "        9.1894105e-07, 2.6514133e-05],\n",
       "       [1.9149915e-08, 1.5640085e-06, 9.9996758e-01, 2.9915343e-05,\n",
       "        4.3966089e-14, 8.0986854e-07, 3.0087939e-08, 4.2272238e-15,\n",
       "        8.0821387e-08, 2.6037039e-13],\n",
       "       [1.8571404e-07, 9.9761873e-01, 1.4223740e-04, 1.2932515e-05,\n",
       "        1.3716720e-04, 3.2890945e-05, 2.4134246e-05, 1.8393578e-03,\n",
       "        1.9118297e-04, 1.1236216e-06],\n",
       "       [9.9989653e-01, 1.0969878e-09, 8.0635891e-06, 3.0430010e-07,\n",
       "        3.2970363e-06, 1.4926194e-05, 3.9106162e-05, 2.3260363e-05,\n",
       "        2.7735945e-09, 1.4425454e-05],\n",
       "       [4.7011767e-07, 1.3453036e-09, 1.1263585e-06, 4.2269935e-08,\n",
       "        9.9837923e-01, 1.5267036e-06, 2.5437089e-06, 9.8383192e-05,\n",
       "        1.9636793e-06, 1.5147087e-03]], dtype=float32)>"
      ]
     },
     "execution_count": 14,
     "metadata": {},
     "output_type": "execute_result"
    }
   ],
   "source": [
    "probability_model(x_test[:5])"
   ]
  },
  {
   "cell_type": "raw",
   "metadata": {},
   "source": [
    "!dir"
   ]
  },
  {
   "cell_type": "code",
   "execution_count": null,
   "metadata": {},
   "outputs": [],
   "source": []
  }
 ],
 "metadata": {
  "kernelspec": {
   "display_name": "Python 3",
   "language": "python",
   "name": "python3"
  },
  "language_info": {
   "codemirror_mode": {
    "name": "ipython",
    "version": 3
   },
   "file_extension": ".py",
   "mimetype": "text/x-python",
   "name": "python",
   "nbconvert_exporter": "python",
   "pygments_lexer": "ipython3",
   "version": "3.6.12"
  }
 },
 "nbformat": 4,
 "nbformat_minor": 4
}
